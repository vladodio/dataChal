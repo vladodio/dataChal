{
 "cells": [
  {
   "cell_type": "code",
   "execution_count": null,
   "id": "literary-degree",
   "metadata": {},
   "outputs": [],
   "source": [
    "'''\n",
    "%matplotlib inline\n",
    "\n",
    "import matplotlib\n",
    "import numpy as np\n",
    "import matplotlib.pyplot as plt\n",
    "\n",
    "import csv\n",
    "'''\n",
    "import tensorflow as tf"
   ]
  },
  {
   "cell_type": "code",
   "execution_count": null,
   "id": "conventional-plasma",
   "metadata": {},
   "outputs": [],
   "source": [
    "# function to read file from csv \n",
    "def load_data(csv_file=\"DataSet.csv\"):\n",
    "    data = [] \n",
    "    with open(csv_file, 'r') as file: \n",
    "        for line in csv.DictReader(file): \n",
    "            data.append(line) \n",
    "    return data\n",
    "\n",
    "# function to write dict to file\n",
    "def write_data(data, csv_file=\"DataSet.csv\"):\n",
    "    csv_columns = list(data[0].keys())\n",
    "    try:\n",
    "        with open(csv_file, 'w') as csvfile:\n",
    "            writer = csv.DictWriter(csvfile, fieldnames=csv_columns)\n",
    "            writer.writeheader()\n",
    "            for line in data:\n",
    "                writer.writerow(line)\n",
    "    except IOError:\n",
    "        print(\"I/O error\")\n",
    "\n",
    "data = load_data()"
   ]
  },
  {
   "cell_type": "code",
   "execution_count": null,
   "id": "handed-construction",
   "metadata": {},
   "outputs": [],
   "source": [
    "counter = 0\n",
    "for row in data:\n",
    "    if(row['Outside_Purp'] != \"\" and row['Outside_Purp'].lower().replace(\"/\", \"\") != \"na\"):\n",
    "        print(row['Outside_Purp'])\n",
    "        counter += 1\n",
    "print(counter)"
   ]
  },
  {
   "cell_type": "code",
   "execution_count": null,
   "id": "enclosed-destruction",
   "metadata": {},
   "outputs": [],
   "source": []
  }
 ],
 "metadata": {
  "kernelspec": {
   "display_name": "Python 3",
   "language": "python",
   "name": "python3"
  },
  "language_info": {
   "codemirror_mode": {
    "name": "ipython",
    "version": 3
   },
   "file_extension": ".py",
   "mimetype": "text/x-python",
   "name": "python",
   "nbconvert_exporter": "python",
   "pygments_lexer": "ipython3",
   "version": "3.8.6"
  }
 },
 "nbformat": 4,
 "nbformat_minor": 5
}
