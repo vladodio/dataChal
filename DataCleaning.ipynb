{
 "cells": [
  {
   "cell_type": "markdown",
   "id": "verified-glory",
   "metadata": {},
   "source": [
    "# Imports"
   ]
  },
  {
   "cell_type": "code",
   "execution_count": 1,
   "id": "inner-season",
   "metadata": {},
   "outputs": [
    {
     "name": "stdout",
     "output_type": "stream",
     "text": [
      "Version Info: sys.version_info(major=3, minor=8, micro=6, releaselevel='final', serial=0)\n"
     ]
    }
   ],
   "source": [
    "import csv \n",
    "import sys\n",
    "import zipcodes\n",
    "from datetime import date\n",
    "\n",
    "print(f'Version Info: {sys.version_info}')"
   ]
  },
  {
   "cell_type": "markdown",
   "id": "brilliant-ghana",
   "metadata": {},
   "source": [
    "# Opening Dataset"
   ]
  },
  {
   "cell_type": "markdown",
   "id": "hungarian-capability",
   "metadata": {},
   "source": [
    "### Storing in a dictionary "
   ]
  },
  {
   "cell_type": "markdown",
   "id": "parliamentary-literature",
   "metadata": {},
   "source": [
    "Write function doesn't seem to work if file is open. "
   ]
  },
  {
   "cell_type": "code",
   "execution_count": 2,
   "id": "substantial-melbourne",
   "metadata": {},
   "outputs": [],
   "source": [
    "# function to read file from csv \n",
    "def load_data(csv_file=\"DataSet.csv\"):\n",
    "    data = [] \n",
    "    with open(csv_file, 'r') as file: \n",
    "        for line in csv.DictReader(file): \n",
    "            data.append(line) \n",
    "    return data\n",
    "\n",
    "# function to write dict to file\n",
    "def write_data(data, csv_file=\"DataSet.csv\"):\n",
    "    csv_columns = list(data[0].keys())\n",
    "    try:\n",
    "        with open(csv_file, 'w') as csvfile:\n",
    "            writer = csv.DictWriter(csvfile, fieldnames=csv_columns)\n",
    "            writer.writeheader()\n",
    "            for line in data:\n",
    "                writer.writerow(line)\n",
    "    except IOError:\n",
    "        print(\"I/O error\")\n",
    "\n",
    "data = load_data()"
   ]
  },
  {
   "cell_type": "markdown",
   "id": "contemporary-allergy",
   "metadata": {},
   "source": [
    "### Data cols"
   ]
  },
  {
   "cell_type": "markdown",
   "id": "determined-malaysia",
   "metadata": {},
   "source": [
    "All the data categories found after parsing"
   ]
  },
  {
   "cell_type": "code",
   "execution_count": 3,
   "id": "third-matrix",
   "metadata": {},
   "outputs": [
    {
     "name": "stdout",
     "output_type": "stream",
     "text": [
      "\"PersonID\"\n",
      "\"Date\"\n",
      "\"Time\"\n",
      "\"HHState\"\n",
      "\"Zipcode\"\n",
      "\"Sex\"\n",
      "\"Age\"\n",
      "\"HHsize\"\n",
      "\"Kids\"\n",
      "\"Auto_own\"\n",
      "\"Married\"\n",
      "\"Educ\"\n",
      "\"HType\"\n",
      "\"Worker\"\n",
      "\"commute_before\"\n",
      "\"commute_after\"\n",
      "\"Transmode_before\"\n",
      "\"changemode\"\n",
      "\"Transmode_after\"\n",
      "\"Commute_min\"\n",
      "\"PhyAc_Before\"\n",
      "\"Exe_Before\"\n",
      "\"PhyAc_After\"\n",
      "\"Exe_After\"\n",
      "\"Groc_Shp\"\n",
      "\"Outside_Ac\"\n",
      "\"Outside_Purp\"\n",
      "\"ONL_SHP\"\n",
      "\"ONL_SHP_AFTR\"\n"
     ]
    }
   ],
   "source": [
    "for col in data[0].keys():\n",
    "    print(f\"\\\"{col}\\\"\")"
   ]
  },
  {
   "cell_type": "markdown",
   "id": "random-vermont",
   "metadata": {},
   "source": [
    "# Sanitization"
   ]
  },
  {
   "cell_type": "code",
   "execution_count": 41,
   "id": "provincial-tenant",
   "metadata": {},
   "outputs": [],
   "source": [
    "for row in data:\n",
    "    row['HHState'] = row['HHState'].replace(\" \", \"\").upper()\n",
    "    row['Outside_Purp'] = row['Outside_Purp'].strip()\n",
    "    try:\n",
    "        int(row['Commute_min'])\n",
    "        if(\"n/a\" == row['Commute_min'].lower()):\n",
    "            row['Commute_min'] = -8\n",
    "    except AttributeError:\n",
    "        pass"
   ]
  },
  {
   "cell_type": "markdown",
   "id": "engaged-liver",
   "metadata": {},
   "source": [
    "### Verification functions"
   ]
  },
  {
   "cell_type": "code",
   "execution_count": 33,
   "id": "radio-divorce",
   "metadata": {},
   "outputs": [],
   "source": [
    "def verify(data, valid_values, *fields):\n",
    "    error_found = False\n",
    "    for row in data:\n",
    "        for field in fields:\n",
    "            try:\n",
    "                if(row[field] not in valid_values):\n",
    "                    raise ValueError(f'{field}:{row[field]} Invalid field value')\n",
    "            except ValueError as e:\n",
    "                error_found = True\n",
    "                print(f'[{row[\"PersonID\"]}]', e)\n",
    "    return not error_found\n",
    "                \n",
    "def verify_int(data, *fields):\n",
    "    error_found = False\n",
    "    for row in data:\n",
    "        for field in fields:\n",
    "            try:\n",
    "                if(int(row[field]) != -8 and int(row[field]) < 0):\n",
    "                    raise TypeError(f'{field}:{row[field]} Invalid field value')\n",
    "            except TypeError as e:\n",
    "                error_found = True\n",
    "                print(f'[{row[\"PersonID\"]}]', e)\n",
    "            except ValueError as e:\n",
    "                error_found = True\n",
    "                print(f'[{row[\"PersonID\"]}] {field}:{row[field]} Invalid field value')\n",
    "    return not error_found\n"
   ]
  },
  {
   "cell_type": "markdown",
   "id": "united-framing",
   "metadata": {},
   "source": [
    "### User Id Ordering and Verification"
   ]
  },
  {
   "cell_type": "markdown",
   "id": "recognized-means",
   "metadata": {},
   "source": [
    "Check for no duplicate user id's and reorders the list of dicts from smallest id to largest"
   ]
  },
  {
   "cell_type": "code",
   "execution_count": 6,
   "id": "gothic-swaziland",
   "metadata": {},
   "outputs": [
    {
     "name": "stdout",
     "output_type": "stream",
     "text": [
      "Number of id's [564] vs number of rows: [564]\n"
     ]
    }
   ],
   "source": [
    "#checks for duplicates and build set of values\n",
    "ids = set()\n",
    "reordered_data = [\"\"] * (len(data)) \n",
    "for row in data:\n",
    "    try:\n",
    "        if(row['PersonID'] in ids):\n",
    "            raise ValueError(\"repeated id\")\n",
    "        else:\n",
    "            ids.add(int(row['PersonID']))\n",
    "            reordered_data[int(row['PersonID'])-1] = row\n",
    "    except ValueError as e:\n",
    "        print(f'[{row[\"PersonID\"]}]', e)\n",
    "\n",
    "data = reordered_data\n",
    "print(f'Number of id\\'s [{len(ids)}] vs number of rows: [{len(data)}]')"
   ]
  },
  {
   "cell_type": "markdown",
   "id": "authentic-webcam",
   "metadata": {},
   "source": [
    "### Time and date"
   ]
  },
  {
   "cell_type": "markdown",
   "id": "amber-found",
   "metadata": {},
   "source": [
    "Does this need verification? Honestly not really useful for anything..."
   ]
  },
  {
   "cell_type": "markdown",
   "id": "interstate-crest",
   "metadata": {},
   "source": [
    "### Zipcode/State"
   ]
  },
  {
   "cell_type": "code",
   "execution_count": 7,
   "id": "extensive-billy",
   "metadata": {},
   "outputs": [
    {
     "name": "stdout",
     "output_type": "stream",
     "text": [
      "[31] Zipcode 00000 is not real\n",
      "[82] Zipcode 2016 is not real\n",
      "[161] Zipcode field is empty\n",
      "[233] Zipcode field is empty\n",
      "[272] Invalid format, zipcode must be of the format: \"#####\" or \"#####-####\"\n"
     ]
    }
   ],
   "source": [
    "# for every line in the dict\n",
    "for row in data:\n",
    "    try:\n",
    "        #grab that rows zipcode\n",
    "        zip=str(row['Zipcode'])\n",
    "        \n",
    "        # check the zipcode field isn't empty\n",
    "        if(zip == \"\"):\n",
    "            raise ValueError('Zipcode field is empty')\n",
    "            \n",
    "        # check the zipcode is real\n",
    "        if(not zipcodes.is_real(zip)):\n",
    "            raise ValueError(f'Zipcode {zip} is not real')\n",
    "            \n",
    "        # check the zipcode matches the state\n",
    "        if(zipcodes.matching(zip)[0]['state'] != row['HHState']):\n",
    "            raise ValueError(f'For zipcode {zip}, User defined state: {row[\"HHState\"]} does not equal Zipcode defined state:{zipcodes.matching(zip)[0][\"state\"]}')\n",
    "            \n",
    "    except Exception as e:\n",
    "        print(f'[{row[\"PersonID\"]}]', e)"
   ]
  },
  {
   "cell_type": "markdown",
   "id": "hawaiian-argentina",
   "metadata": {},
   "source": [
    "### Fields greater then zero"
   ]
  },
  {
   "cell_type": "code",
   "execution_count": 42,
   "id": "cellular-mobile",
   "metadata": {},
   "outputs": [
    {
     "name": "stdout",
     "output_type": "stream",
     "text": [
      "[6] Age: Invalid field value\n",
      "[6] HHsize: Invalid field value\n",
      "[6] Auto_own: Invalid field value\n",
      "[483] Kids: Invalid field value\n",
      "[500] Age:01-21-1930 Invalid field value\n",
      "[505] Age:30+ Invalid field value\n"
     ]
    },
    {
     "data": {
      "text/plain": [
       "False"
      ]
     },
     "execution_count": 42,
     "metadata": {},
     "output_type": "execute_result"
    }
   ],
   "source": [
    "verify_int(data, \"Age\", \"HHsize\", \"Kids\", \"Auto_own\", \"Commute_min\")"
   ]
  },
  {
   "cell_type": "markdown",
   "id": "cultural-leave",
   "metadata": {},
   "source": [
    "### Fields only equal to 1,2,3,4"
   ]
  },
  {
   "cell_type": "code",
   "execution_count": 9,
   "id": "running-harrison",
   "metadata": {},
   "outputs": [
    {
     "name": "stdout",
     "output_type": "stream",
     "text": [
      "[220] PhyAc_Before:N/A Invalid field value\n"
     ]
    }
   ],
   "source": [
    "valid_values = set([\"1\", \"2\", \"3\", \"4\"])\n",
    "if(verify(data, valid_values, \"Worker\", \"PhyAc_Before\", \"Exe_Before\", \"PhyAc_After\", \"Outside_Ac\")):\n",
    "    print(\"No Errors found\")"
   ]
  },
  {
   "cell_type": "markdown",
   "id": "unexpected-tissue",
   "metadata": {},
   "source": [
    "### Fields only equal to 1,2,3,4,5"
   ]
  },
  {
   "cell_type": "code",
   "execution_count": 10,
   "id": "extra-guess",
   "metadata": {},
   "outputs": [
    {
     "name": "stdout",
     "output_type": "stream",
     "text": [
      "No Errors found\n"
     ]
    }
   ],
   "source": [
    "valid_values = set([\"1\", \"2\", \"3\", \"4\", \"5\"])\n",
    "if(verify(data, valid_values, \"HType\", \"Groc_Shp\")):\n",
    "    print(\"No Errors found\")"
   ]
  },
  {
   "cell_type": "markdown",
   "id": "stable-noise",
   "metadata": {},
   "source": [
    "### Fields only equal to 1,2,3,-8, "
   ]
  },
  {
   "cell_type": "code",
   "execution_count": 11,
   "id": "confirmed-cleaning",
   "metadata": {},
   "outputs": [
    {
     "name": "stdout",
     "output_type": "stream",
     "text": [
      "No Errors found\n"
     ]
    }
   ],
   "source": [
    "valid_values = set([\"1\",\"2\",\"3\",\"-8\"])\n",
    "if(verify(data, valid_values, \"Married\", \"commute_before\", \"ONL_SHP_AFTR\")):\n",
    "    print(\"No Errors found\")"
   ]
  },
  {
   "cell_type": "markdown",
   "id": "disciplinary-battery",
   "metadata": {},
   "source": [
    "### Fields only equal to 1,2,3,4,-8 "
   ]
  },
  {
   "cell_type": "code",
   "execution_count": 12,
   "id": "clinical-wildlife",
   "metadata": {},
   "outputs": [
    {
     "name": "stdout",
     "output_type": "stream",
     "text": [
      "No Errors found\n"
     ]
    }
   ],
   "source": [
    "valid_values = set([\"1\",\"2\",\"3\",\"4\",\"-8\"])\n",
    "if(verify(data, valid_values, \"Educ\")):\n",
    "    print(\"No Errors found\")"
   ]
  },
  {
   "cell_type": "markdown",
   "id": "dutch-drive",
   "metadata": {},
   "source": [
    "### Fields only equal to 1,2,-8,-9 "
   ]
  },
  {
   "cell_type": "code",
   "execution_count": 13,
   "id": "paperback-syndication",
   "metadata": {},
   "outputs": [
    {
     "name": "stdout",
     "output_type": "stream",
     "text": [
      "No Errors found\n"
     ]
    }
   ],
   "source": [
    "valid_values = set([\"1\",\"2\",\"-8\",\"-9\"])\n",
    "if(verify(data, valid_values, \"Sex\")):\n",
    "    print(\"No Errors found\")"
   ]
  },
  {
   "cell_type": "markdown",
   "id": "forbidden-subcommittee",
   "metadata": {},
   "source": [
    "### Fields only equal to 1,2,3,4,5,6,7,-8"
   ]
  },
  {
   "cell_type": "code",
   "execution_count": 14,
   "id": "exact-revelation",
   "metadata": {},
   "outputs": [
    {
     "name": "stdout",
     "output_type": "stream",
     "text": [
      "No Errors found\n"
     ]
    }
   ],
   "source": [
    "valid_values = set([\"1\",\"2\",\"3\",\"4\",\"5\",\"6\",\"7\",\"-8\"])\n",
    "if(verify(data, valid_values, \"commute_after\", \"Transmode_before\", \"Transmode_after\")):\n",
    "    print(\"No Errors found\")"
   ]
  },
  {
   "cell_type": "markdown",
   "id": "attempted-wrist",
   "metadata": {},
   "source": [
    "### Fields only equal to 1,2,-8"
   ]
  },
  {
   "cell_type": "code",
   "execution_count": 15,
   "id": "rapid-abortion",
   "metadata": {},
   "outputs": [
    {
     "name": "stdout",
     "output_type": "stream",
     "text": [
      "No Errors found\n"
     ]
    }
   ],
   "source": [
    "valid_values = set([\"1\",\"2\",\"-8\"])\n",
    "if(verify(data, valid_values, \"changemode\", \"ONL_SHP\")):\n",
    "    print(\"No Errors found\")"
   ]
  },
  {
   "cell_type": "markdown",
   "id": "attractive-apple",
   "metadata": {},
   "source": [
    "### Fields only equal to 1,2,3,4,5,6,7"
   ]
  },
  {
   "cell_type": "code",
   "execution_count": 16,
   "id": "drawn-calvin",
   "metadata": {},
   "outputs": [
    {
     "name": "stdout",
     "output_type": "stream",
     "text": [
      "No Errors found\n"
     ]
    }
   ],
   "source": [
    "valid_values = set([\"1\",\"2\",\"3\",\"4\",\"5\",\"6\",\"7\"])\n",
    "if(verify(data, valid_values, \"Exe_After\")):\n",
    "    print(\"No Errors found\")"
   ]
  },
  {
   "cell_type": "markdown",
   "id": "entitled-chrome",
   "metadata": {},
   "source": [
    "# Update Data set on disk"
   ]
  },
  {
   "cell_type": "markdown",
   "id": "realistic-tourism",
   "metadata": {},
   "source": [
    "write_data(data)"
   ]
  }
 ],
 "metadata": {
  "kernelspec": {
   "display_name": "Python 3",
   "language": "python",
   "name": "python3"
  },
  "language_info": {
   "codemirror_mode": {
    "name": "ipython",
    "version": 3
   },
   "file_extension": ".py",
   "mimetype": "text/x-python",
   "name": "python",
   "nbconvert_exporter": "python",
   "pygments_lexer": "ipython3",
   "version": "3.8.6"
  }
 },
 "nbformat": 4,
 "nbformat_minor": 5
}
